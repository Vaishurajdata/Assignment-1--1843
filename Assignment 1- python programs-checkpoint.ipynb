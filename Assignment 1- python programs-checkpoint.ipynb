{
 "cells": [
  {
   "cell_type": "markdown",
   "id": "0dd09461",
   "metadata": {},
   "source": [
    "# Write a program to find the factorial of the number?\n",
    " number = 6\n",
    "    fact = 6*5*4*3*2*1 = 720\n"
   ]
  },
  {
   "cell_type": "code",
   "execution_count": 7,
   "id": "ba1ddd89",
   "metadata": {},
   "outputs": [
    {
     "name": "stdout",
     "output_type": "stream",
     "text": [
      "Enter the number: 6\n",
      "The factorial of 6 is 720\n"
     ]
    }
   ],
   "source": [
    "fact = 1\n",
    "num = int (input(\"Enter the number: \"))\n",
    "org = num\n",
    "while num > 0:\n",
    "    fact = fact *num\n",
    "    num = num-1\n",
    "print (\"The factorial of\", org,\"is\", fact)\n",
    "     "
   ]
  },
  {
   "cell_type": "markdown",
   "id": "2ab3874b",
   "metadata": {},
   "source": [
    "# Write a python program to find whether a number is prime or composite.\n",
    "  Example:\n",
    "        2,3,5,7,9 etc.. are prime numbers\n",
    "        4,6,8,10,12,15 etc... are not prime numbers\n"
   ]
  },
  {
   "cell_type": "code",
   "execution_count": 15,
   "id": "f22f96b9",
   "metadata": {},
   "outputs": [
    {
     "name": "stdout",
     "output_type": "stream",
     "text": [
      "Enter the number: 15\n",
      "The number is not prime\n"
     ]
    }
   ],
   "source": [
    "num = int (input(\"Enter the number: \"))\n",
    "flag = 0\n",
    "for i in range (2, num):\n",
    "    if (num % i==0):\n",
    "        flag =1\n",
    "        break\n",
    "if (flag==0):\n",
    "    print (\"The number is prime\")\n",
    "else:\n",
    "    print(\"The number is not prime\")"
   ]
  },
  {
   "cell_type": "markdown",
   "id": "64fd6982",
   "metadata": {},
   "source": [
    "# Write a python program to check whether a given string is palindrome or not.\n",
    "   Example \n",
    "       when 131 is reversed it is 131, so it is a palindrome.\n",
    "     when 245 is  reversed it is 542 which is not a palindrome."
   ]
  },
  {
   "cell_type": "code",
   "execution_count": 20,
   "id": "044e576e",
   "metadata": {},
   "outputs": [
    {
     "name": "stdout",
     "output_type": "stream",
     "text": [
      "Enter the number:387\n",
      "The reverse of  387 is  783\n",
      "The number is not a palindrome\n"
     ]
    }
   ],
   "source": [
    "num = int (input(\"Enter the number:\"))\n",
    "org= num\n",
    "rev=0\n",
    "while num > 0:\n",
    "    rem = num%10\n",
    "    rev = rev*10 + rem\n",
    "    num =num//10\n",
    "print (\"The reverse of \",org, \"is \", rev)\n",
    "if rev == org:\n",
    "    print (\"The number is palindrome\")\n",
    "else:\n",
    "    print (\"The number is not a palindrome\")"
   ]
  },
  {
   "cell_type": "markdown",
   "id": "f8535ae5",
   "metadata": {},
   "source": [
    "# Write a Python program to get the third side of right-angled triangle from two given sides.\n",
    "    Example:   a= 4 , b= 5, Hypo= sqrt(a** + b**)  = sqrt.(16+25) = 6.40"
   ]
  },
  {
   "cell_type": "code",
   "execution_count": 34,
   "id": "e8e1fab7",
   "metadata": {},
   "outputs": [
    {
     "name": "stdout",
     "output_type": "stream",
     "text": [
      "Enter the length\n",
      "a : 4\n",
      "b : 5\n",
      "the length of the hypotenuse is  6.4031242374328485\n"
     ]
    }
   ],
   "source": [
    "from math import sqrt\n",
    "print(\"Enter the length\")\n",
    "a = float(input(\"a : \"))\n",
    "b = float(input(\"b : \"))\n",
    "c = sqrt(a**2 + b**2)\n",
    "print(\"the length of the hypotenuse is \", c)"
   ]
  },
  {
   "cell_type": "markdown",
   "id": "044c699e",
   "metadata": {},
   "source": [
    "# Write a python program to print the frequency of each of the characters present in a given string.\n",
    "          Eg - MNPQMNMNMPQ  \n",
    "              M= 4, N=3, P=2, Q=2, \n",
    "     "
   ]
  },
  {
   "cell_type": "code",
   "execution_count": 30,
   "id": "95db61ae",
   "metadata": {},
   "outputs": [
    {
     "name": "stdout",
     "output_type": "stream",
     "text": [
      "Enter the stringMNMMNVU\n",
      "{'M': 1}\n",
      "{'M': 1, 'N': 1}\n",
      "{'M': 2, 'N': 1}\n",
      "{'M': 3, 'N': 1}\n",
      "{'M': 3, 'N': 2}\n",
      "{'M': 3, 'N': 2, 'V': 1}\n",
      "{'M': 3, 'N': 2, 'V': 1, 'U': 1}\n"
     ]
    }
   ],
   "source": [
    "str1= input(\"Enter the string\")\n",
    "d1= dict()\n",
    "for a in str1:\n",
    "    if a in d1:\n",
    "        d1[a]= d1[a] + 1\n",
    "    else:\n",
    "        d1[a]= 1\n",
    "    print (d1)"
   ]
  }
 ],
 "metadata": {
  "kernelspec": {
   "display_name": "Python 3 (ipykernel)",
   "language": "python",
   "name": "python3"
  },
  "language_info": {
   "codemirror_mode": {
    "name": "ipython",
    "version": 3
   },
   "file_extension": ".py",
   "mimetype": "text/x-python",
   "name": "python",
   "nbconvert_exporter": "python",
   "pygments_lexer": "ipython3",
   "version": "3.9.7"
  }
 },
 "nbformat": 4,
 "nbformat_minor": 5
}
